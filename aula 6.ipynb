{
 "cells": [
  {
   "cell_type": "code",
   "execution_count": 4,
   "metadata": {},
   "outputs": [
    {
     "name": "stdout",
     "output_type": "stream",
     "text": [
      "O valor do imposto do veículo é: 1.5\n"
     ]
    }
   ],
   "source": [
    "anoDoVeiculo = float(input('Digite oo ano de fabricação do veículo:'))\n",
    "valorDoVeiculo = float(input('digite o valor do veículo: '))\n",
    "\n",
    "if(anoDoVeiculo < 1990):\n",
    "    imposto = 1/100 * valorDoVeiculo\n",
    "    print('O valor do imposto do veículo é:', imposto)\n",
    "else:\n",
    "    imposto = 1.5/100 * 100\n",
    "    print ('O valor do imposto do veículo é:', imposto)\n"
   ]
  },
  {
   "cell_type": "code",
   "execution_count": 13,
   "metadata": {},
   "outputs": [
    {
     "name": "stdout",
     "output_type": "stream",
     "text": [
      "O valor do antigo salario é : 12000.0 \n",
      "O novo salário é: 15600.0 \n",
      "A diferença é: 3600.0\n"
     ]
    }
   ],
   "source": [
    "salario = float(input('Digite o salário:'))\n",
    "codigo = int(input('Digite o código do Funcionário:'))\n",
    "\n",
    "if(codigo == 101):\n",
    "    print (\"O valor do antigo salario é :\", salario,'\\nO novo salário é:', (10/100* salario) + salario,'\\n A diferença é:', (10/100* salario)  )\n",
    "elif(codigo == 102):\n",
    "    print (\"O valor do antigo salario é :\", salario, '\\nO novo salário é:', (20/100* salario) + salario, '\\nA diferença é:', (20/100* salario)  )\n",
    "elif(codigo == 103):\n",
    "    print (\"O valor do antigo salario é :\", salario,'\\nO novo salário é:', (30/100* salario) + salario, '\\nA diferença é:', (30/100* salario)  )\n",
    "else:\n",
    "    print (\"O valor do antigo salario é :\", salario, '\\nO novo salário é:', (40/100* salario) + salario, '\\nA diferença é:', (40/100* salario)  )"
   ]
  }
 ],
 "metadata": {
  "kernelspec": {
   "display_name": "Python 3",
   "language": "python",
   "name": "python3"
  },
  "language_info": {
   "codemirror_mode": {
    "name": "ipython",
    "version": 3
   },
   "file_extension": ".py",
   "mimetype": "text/x-python",
   "name": "python",
   "nbconvert_exporter": "python",
   "pygments_lexer": "ipython3",
   "version": "3.11.9"
  }
 },
 "nbformat": 4,
 "nbformat_minor": 2
}
