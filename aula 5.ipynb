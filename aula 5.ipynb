{
 "cells": [
  {
   "cell_type": "code",
   "execution_count": null,
   "metadata": {},
   "outputs": [],
   "source": [
    "valor1= int(input('digite um número'))"
   ]
  },
  {
   "cell_type": "code",
   "execution_count": null,
   "metadata": {},
   "outputs": [
    {
     "name": "stdout",
     "output_type": "stream",
     "text": [
      "18\n"
     ]
    }
   ],
   "source": [
    "print(valor1 )"
   ]
  },
  {
   "cell_type": "code",
   "execution_count": null,
   "metadata": {},
   "outputs": [],
   "source": [
    "valor2 = 12\n",
    "valor3 = 15"
   ]
  },
  {
   "cell_type": "code",
   "execution_count": null,
   "metadata": {},
   "outputs": [],
   "source": []
  },
  {
   "cell_type": "code",
   "execution_count": null,
   "metadata": {},
   "outputs": [
    {
     "name": "stdout",
     "output_type": "stream",
     "text": [
      "27\n"
     ]
    }
   ],
   "source": [
    "print( valor2 + valor3)"
   ]
  },
  {
   "cell_type": "code",
   "execution_count": 16,
   "metadata": {},
   "outputs": [
    {
     "ename": "ValueError",
     "evalue": "invalid literal for int() with base 10: '12.3'",
     "output_type": "error",
     "traceback": [
      "\u001b[1;31m---------------------------------------------------------------------------\u001b[0m",
      "\u001b[1;31mValueError\u001b[0m                                Traceback (most recent call last)",
      "Cell \u001b[1;32mIn[16], line 1\u001b[0m\n\u001b[1;32m----> 1\u001b[0m valor1\u001b[38;5;241m=\u001b[39m \u001b[38;5;28;43mint\u001b[39;49m\u001b[43m(\u001b[49m\u001b[38;5;28;43minput\u001b[39;49m\u001b[43m(\u001b[49m\u001b[38;5;124;43m'\u001b[39;49m\u001b[38;5;124;43mdigite um número\u001b[39;49m\u001b[38;5;124;43m'\u001b[39;49m\u001b[43m)\u001b[49m\u001b[43m)\u001b[49m\n\u001b[0;32m      2\u001b[0m valor2\u001b[38;5;241m=\u001b[39m \u001b[38;5;28mint\u001b[39m(\u001b[38;5;28minput\u001b[39m(\u001b[38;5;124m'\u001b[39m\u001b[38;5;124mdigite outro número\u001b[39m\u001b[38;5;124m'\u001b[39m))\n\u001b[0;32m      3\u001b[0m resultado \u001b[38;5;241m=\u001b[39m  valor1 \u001b[38;5;241m+\u001b[39m valor2\n",
      "\u001b[1;31mValueError\u001b[0m: invalid literal for int() with base 10: '12.3'"
     ]
    }
   ],
   "source": [
    "valor1= int(input('digite um número'))\n",
    "valor2= int(input('digite outro número'))\n",
    "resultado =  valor1 + valor2\n",
    "print (\"A soma do resutado é:\", resultado)\n"
   ]
  },
  {
   "cell_type": "code",
   "execution_count": 15,
   "metadata": {},
   "outputs": [
    {
     "name": "stdout",
     "output_type": "stream",
     "text": [
      " A médio das 3 notas é: 54.0\n"
     ]
    }
   ],
   "source": [
    "nota1= float(input('digite a primeira nota'))\n",
    "nota2= float(input('digite a segunda nota'))\n",
    "nota3= float(input('digite a terceira nota'))\n",
    "\n",
    "resultado = (nota1 + nota2 + nota3) / 3\n",
    "\n",
    "print ( \" A médio das 3 notas é:\", resultado)"
   ]
  },
  {
   "cell_type": "code",
   "execution_count": 19,
   "metadata": {},
   "outputs": [
    {
     "name": "stdout",
     "output_type": "stream",
     "text": [
      "O salário do mês vai ser: 2400.0\n"
     ]
    }
   ],
   "source": [
    "hora= float(input('digite o valor da sua hora '))\n",
    "hora_mes= float(input('digite quantas horas  trabalhadas no mes'))\n",
    "\n",
    "valor_total = hora * hora_mes \n",
    "\n",
    "print ('O salário do mês vai ser:', valor_total)"
   ]
  },
  {
   "cell_type": "code",
   "execution_count": 43,
   "metadata": {},
   "outputs": [
    {
     "name": "stdout",
     "output_type": "stream",
     "text": [
      "a multa vai ser: 9.199999999999989\n"
     ]
    }
   ],
   "source": [
    "#peso do peixe\n",
    "peso = float(input('digite o peso do peixe'))\n",
    "\n",
    "#adicional\n",
    "adicional = peso - 50\n",
    "\n",
    "#multa \n",
    "multa = adicional * 4\n",
    "\n",
    "if(peso <= 50):\n",
    "    print('Não paga multa')\n",
    "else:\n",
    "    print(\"a multa vai ser:\", multa)"
   ]
  }
 ],
 "metadata": {
  "kernelspec": {
   "display_name": "Python 3",
   "language": "python",
   "name": "python3"
  },
  "language_info": {
   "codemirror_mode": {
    "name": "ipython",
    "version": 3
   },
   "file_extension": ".py",
   "mimetype": "text/x-python",
   "name": "python",
   "nbconvert_exporter": "python",
   "pygments_lexer": "ipython3",
   "version": "3.10.11"
  }
 },
 "nbformat": 4,
 "nbformat_minor": 2
}
