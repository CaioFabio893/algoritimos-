{
 "cells": [
  {
   "cell_type": "code",
   "execution_count": null,
   "metadata": {},
   "outputs": [],
   "source": [
    "#o Meu Super complicado\n",
    "numeroDePatinhos = 0\n",
    "\n",
    "for patinhos in range (5):\n",
    "    funcao = int(input('Diga quantos patinhos foram passear: '))\n",
    "    funcaoP = funcao - 1\n",
    "    if (numeroDePatinhos != funcao):\n",
    "        print(funcao, 'patinhos foram passear \\nAlém das montanhas para brincar \\nA mamãe gritou: Qua, Qua, Qua ,Qua \\nMas so', funcaoP,'patinhos voltaram de lá.')\n",
    "        funcao -= 1"
   ]
  },
  {
   "cell_type": "code",
   "execution_count": null,
   "metadata": {},
   "outputs": [],
   "source": [
    "#emerson\n",
    "for patinho in [5, 4, 3, 2, 1]:\n",
    "    print (patinho, \"foram passear \\n Além das montanhas para brincar \\n A mamaãe gritou: Quá, quá, quá, quá \\n Mas só\", patinho-1, \" patinhos voltaram de lá\")"
   ]
  },
  {
   "cell_type": "code",
   "execution_count": 22,
   "metadata": {},
   "outputs": [
    {
     "name": "stdout",
     "output_type": "stream",
     "text": [
      "O número 6 x 0 : 0\n",
      "O número 6 x 1 : 6\n",
      "O número 6 x 2 : 12\n",
      "O número 6 x 3 : 18\n",
      "O número 6 x 4 : 24\n",
      "O número 6 x 5 : 30\n",
      "O número 6 x 6 : 36\n",
      "O número 6 x 7 : 42\n",
      "O número 6 x 8 : 48\n",
      "O número 6 x 9 : 54\n",
      "O número 6 x 10 : 60\n"
     ]
    }
   ],
   "source": [
    "#consegui acertar\n",
    "p = int (input (\"Digite um número:\"))\n",
    "for elemento in range(11):\n",
    "    print('O número',p, 'x', elemento, ':',elemento * p)\n"
   ]
  }
 ],
 "metadata": {
  "kernelspec": {
   "display_name": "Python 3",
   "language": "python",
   "name": "python3"
  },
  "language_info": {
   "codemirror_mode": {
    "name": "ipython",
    "version": 3
   },
   "file_extension": ".py",
   "mimetype": "text/x-python",
   "name": "python",
   "nbconvert_exporter": "python",
   "pygments_lexer": "ipython3",
   "version": "3.12.3"
  }
 },
 "nbformat": 4,
 "nbformat_minor": 2
}
