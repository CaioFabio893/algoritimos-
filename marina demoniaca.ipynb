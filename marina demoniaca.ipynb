{
 "cells": [
  {
   "cell_type": "code",
   "execution_count": 35,
   "metadata": {},
   "outputs": [
    {
     "name": "stdout",
     "output_type": "stream",
     "text": [
      "1 elefante incomoda muita gente\n",
      "2 elefantes  incomodam, incomodam,  muito mais!\n",
      "3 elefantes  incomodam muita gente!\n",
      "4 elefantes incomodam, incomodam, incomodam, incomodam,  muito mais!\n",
      "5 elefantes  incomodam muita gente!\n",
      "6 elefantes incomodam, incomodam, incomodam, incomodam, incomodam, incomodam,  muito mais!\n",
      "7 elefantes  incomodam muita gente!\n",
      "8 elefantes incomodam, incomodam, incomodam, incomodam, incomodam, incomodam, incomodam, incomodam,  muito mais!\n",
      "9 elefantes  incomodam muita gente!\n",
      "10 elefantes incomodam, incomodam, incomodam, incomodam, incomodam, incomodam, incomodam, incomodam, incomodam, incomodam,  muito mais!\n",
      "9 elefantes  incomodam muita gente!\n",
      "8 elefantes incomodam, incomodam, incomodam, incomodam, incomodam, incomodam, incomodam, incomodam,  muito menos!\n",
      "7 elefantes  incomodam muita gente!\n",
      "6 elefantes incomodam, incomodam, incomodam, incomodam, incomodam, incomodam,  muito menos!\n",
      "5 elefantes  incomodam muita gente!\n",
      "4 elefantes incomodam, incomodam, incomodam, incomodam,  muito menos!\n",
      "3 elefantes  incomodam muita gente!\n",
      "2 elefantes  incomodam, incomodam,  muito mais!\n",
      "1 elefante incomoda muita gente\n"
     ]
    }
   ],
   "source": [
    "\n",
    "# foi osso \n",
    "incomodam = 'incomodam, '\n",
    "\n",
    "for i in range(1, 11):\n",
    "    if i % 2 == 0:\n",
    "        if i == 2:\n",
    "             print(i, 'elefantes ', incomodam * i  , 'muito mais!')\n",
    "        else:\n",
    "            print(i, 'elefantes',  incomodam * i ,'muito mais!')\n",
    "        \n",
    "    else:\n",
    "        if i == 1:\n",
    "            print(i, 'elefante incomoda muita gente')\n",
    "        else:\n",
    "            print(i, 'elefantes  incomodam muita gente!')\n",
    "\n",
    "for i in reversed(range(1, 10)):\n",
    "    if i % 2 == 0:\n",
    "        if i == 2:\n",
    "             print(i, 'elefantes ', incomodam * i  , 'muito mais!')\n",
    "        else:\n",
    "            print(i, 'elefantes',  incomodam * i ,'muito menos!')\n",
    "        \n",
    "    else:\n",
    "        if i == 1:\n",
    "            print(i, 'elefante incomoda muita gente')\n",
    "        else:\n",
    "            print(i, 'elefantes  incomodam muita gente!')\n",
    "\n",
    "    \n",
    "\n",
    "\n",
    "\n"
   ]
  },
  {
   "cell_type": "code",
   "execution_count": 36,
   "metadata": {},
   "outputs": [
    {
     "name": "stdout",
     "output_type": "stream",
     "text": [
      "Mariana conta 1 \n",
      "Mariana conta 1 Mariana conta 1 \n",
      "é 1\n",
      "Ana, viva a Mariana, viva a Mariana\n",
      "Mariana conta 2 \n",
      "Mariana conta 2 Mariana conta 2 \n",
      "é 1 , é 2\n",
      "Ana, viva a Mariana, viva a Mariana\n",
      "Mariana conta 3 \n",
      "Mariana conta 3 Mariana conta 3 \n",
      "é 1 , é 2 , é 3\n",
      "Ana, viva a Mariana, viva a Mariana\n",
      "Mariana conta 4 \n",
      "Mariana conta 4 Mariana conta 4 \n",
      "é 1 , é 2 , é 3 , é 4\n",
      "Ana, viva a Mariana, viva a Mariana\n",
      "Mariana conta 5 \n",
      "Mariana conta 5 Mariana conta 5 \n",
      "é 1 , é 2 , é 3 , é 4 , é 5\n",
      "Ana, viva a Mariana, viva a Mariana\n",
      "Mariana conta 6 \n",
      "Mariana conta 6 Mariana conta 6 \n",
      "é 1 , é 2 , é 3 , é 4 , é 5 , é 6\n",
      "Ana, viva a Mariana, viva a Mariana\n",
      "Mariana conta 7 \n",
      "Mariana conta 7 Mariana conta 7 \n",
      "é 1 , é 2 , é 3 , é 4 , é 5 , é 6 , é 7\n",
      "Ana, viva a Mariana, viva a Mariana\n",
      "Mariana conta 8 \n",
      "Mariana conta 8 Mariana conta 8 \n",
      "é 1 , é 2 , é 3 , é 4 , é 5 , é 6 , é 7 , é 8\n",
      "Ana, viva a Mariana, viva a Mariana\n",
      "Mariana conta 9 \n",
      "Mariana conta 9 Mariana conta 9 \n",
      "é 1 , é 2 , é 3 , é 4 , é 5 , é 6 , é 7 , é 8 , é 9\n",
      "Ana, viva a Mariana, viva a Mariana\n",
      "Mariana conta 10 \n",
      "Mariana conta 10 Mariana conta 10 \n",
      "é 1 , é 2 , é 3 , é 4 , é 5 , é 6 , é 7 , é 8 , é 9 , é 10\n",
      "Ana, viva a Mariana, viva a Mariana\n"
     ]
    }
   ],
   "source": [
    "conta = []\n",
    "\n",
    "for i in range(1, 11):\n",
    "    conta.append(str(i))\n",
    "   \n",
    "    print('Mariana conta', i,'\\nMariana conta', i,'Mariana conta', i,'\\né',' , é '.join(conta))\n",
    "    print ('Ana, viva a Mariana, viva a Mariana')\n"
   ]
  }
 ],
 "metadata": {
  "kernelspec": {
   "display_name": "Python 3",
   "language": "python",
   "name": "python3"
  },
  "language_info": {
   "codemirror_mode": {
    "name": "ipython",
    "version": 3
   },
   "file_extension": ".py",
   "mimetype": "text/x-python",
   "name": "python",
   "nbconvert_exporter": "python",
   "pygments_lexer": "ipython3",
   "version": "3.11.9"
  }
 },
 "nbformat": 4,
 "nbformat_minor": 2
}
