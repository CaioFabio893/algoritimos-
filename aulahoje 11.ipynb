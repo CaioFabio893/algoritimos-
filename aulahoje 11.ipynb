{
 "cells": [
  {
   "cell_type": "code",
   "execution_count": 6,
   "metadata": {},
   "outputs": [
    {
     "name": "stdout",
     "output_type": "stream",
     "text": [
      "Número 1\n",
      "Número 2\n",
      "Número 3\n",
      "Número 4\n",
      "Número 5\n"
     ]
    }
   ],
   "source": [
    "def funcaoLeitura():\n",
    "    for num in [1,2,3,4,5]:\n",
    "        print('Número',num)\n",
    "\n",
    "funcaoLeitura()"
   ]
  },
  {
   "cell_type": "code",
   "execution_count": 12,
   "metadata": {},
   "outputs": [
    {
     "name": "stdout",
     "output_type": "stream",
     "text": [
      "Número 0\n",
      "Número 1\n",
      "Número 2\n",
      "Número 3\n",
      "Número 4\n"
     ]
    }
   ],
   "source": [
    "#outra maniera de se fazer \n",
    "def funcaoLeitura():\n",
    "    for num in range(5):\n",
    "        print(\"Número\", num)\n",
    "\n",
    "funcaoLeitura()"
   ]
  },
  {
   "cell_type": "code",
   "execution_count": 10,
   "metadata": {},
   "outputs": [
    {
     "name": "stdout",
     "output_type": "stream",
     "text": [
      "O primeiro número é: 10\n",
      "O primeiro segundo é: 15\n",
      "O primeiro terceiro é: 25\n"
     ]
    }
   ],
   "source": [
    "def addNUm(n1,n2):\n",
    "    print('O primeiro número é:',n1)\n",
    "    print('O primeiro segundo é:',n2)\n",
    "    print('O primeiro terceiro é:',n1 + n2)\n",
    "\n",
    "addNUm(10,15)"
   ]
  },
  {
   "cell_type": "code",
   "execution_count": 14,
   "metadata": {},
   "outputs": [
    {
     "name": "stdout",
     "output_type": "stream",
     "text": [
      "Variavel da função multiplica: 20\n",
      "10\n"
     ]
    }
   ],
   "source": [
    "varGlobal = 10 #essa é uma variavel global \n",
    "def multiplicaçao(num1,num2):\n",
    "    #apesar do mesmo nome a variavel é local\n",
    "    varGlobal = (num1 * num2)\n",
    "    print('Variavel da função multiplica:', varGlobal)\n",
    "\n",
    "multiplicaçao(5,4)\n",
    "print(varGlobal)"
   ]
  },
  {
   "cell_type": "code",
   "execution_count": 19,
   "metadata": {},
   "outputs": [
    {
     "name": "stdout",
     "output_type": "stream",
     "text": [
      "Variavel da função multiplica: 20\n",
      "20\n"
     ]
    }
   ],
   "source": [
    "varGlobal = 10 #essa é uma variavel global \n",
    "def multiplica(num1,num2):\n",
    "    #apesar do mesmo nome a variavel é local\n",
    "    varlocal = num1 * num2\n",
    "    print('Variavel da função multiplica:', varlocal)\n",
    "    print(varlocal)\n",
    "\n",
    "multiplica(5,4)\n"
   ]
  },
  {
   "cell_type": "code",
   "execution_count": 20,
   "metadata": {},
   "outputs": [
    {
     "ename": "NameError",
     "evalue": "name 'varLocal' is not defined",
     "output_type": "error",
     "traceback": [
      "\u001b[1;31m---------------------------------------------------------------------------\u001b[0m",
      "\u001b[1;31mNameError\u001b[0m                                 Traceback (most recent call last)",
      "Cell \u001b[1;32mIn[20], line 1\u001b[0m\n\u001b[1;32m----> 1\u001b[0m \u001b[38;5;28mprint\u001b[39m(\u001b[43mvarLocal\u001b[49m\n\u001b[0;32m      2\u001b[0m       )\n",
      "\u001b[1;31mNameError\u001b[0m: name 'varLocal' is not defined"
     ]
    }
   ],
   "source": [
    "print(varLocal)"
   ]
  },
  {
   "cell_type": "code",
   "execution_count": 24,
   "metadata": {},
   "outputs": [
    {
     "data": {
      "text/plain": [
       "['cibele', 'Maria', 'Suely']"
      ]
     },
     "execution_count": 24,
     "metadata": {},
     "output_type": "execute_result"
    }
   ],
   "source": [
    "def separarTexto(texto):\n",
    "    return texto.split()\n",
    "separarTexto(\"cibele Maria Suely\")"
   ]
  },
  {
   "cell_type": "code",
   "execution_count": 29,
   "metadata": {},
   "outputs": [
    {
     "name": "stdout",
     "output_type": "stream",
     "text": [
      "Parametro 0 cibele\n",
      "Parametro 1 suely\n",
      "Parametro 2 giggio\n",
      "Parametro 3  madá\n",
      "Parametro 4 luquinhas\n"
     ]
    }
   ],
   "source": [
    "#quando nao sabemos a quantidade de parametros basta usar \n",
    "def variosParametros(*parametros):\n",
    "    for n, item in enumerate(parametros):\n",
    "        print(\"Parametro\", n , item)\n",
    "    return\n",
    "\n",
    "variosParametros('cibele','suely', 'giggio', ' madá', 'luquinhas')"
   ]
  },
  {
   "cell_type": "code",
   "execution_count": 31,
   "metadata": {},
   "outputs": [
    {
     "name": "stdout",
     "output_type": "stream",
     "text": [
      "Parametro 0 pitomba\n",
      "Parametro 1 jambo\n",
      "Parametro 2 siriguela\n",
      "Parametro 3 umbu\n"
     ]
    }
   ],
   "source": [
    "variosParametros('pitomba', 'jambo', 'siriguela', 'umbu')"
   ]
  },
  {
   "cell_type": "code",
   "execution_count": 7,
   "metadata": {},
   "outputs": [
    {
     "name": "stdout",
     "output_type": "stream",
     "text": [
      "+=================+\n",
      "| MENU DE OPERAÇÕES\n",
      "| 1 - somar        \n",
      "| 2 - subtrair     \n",
      "| 3 - multiplicar  \n",
      "| 4 - dividir      \n",
      "| 0 - sair         \n",
      "+=================+\n",
      "O resultado da soma é: 4.0\n",
      "+=================+\n",
      "| MENU DE OPERAÇÕES\n",
      "| 1 - somar        \n",
      "| 2 - subtrair     \n",
      "| 3 - multiplicar  \n",
      "| 4 - dividir      \n",
      "| 0 - sair         \n",
      "+=================+\n"
     ]
    }
   ],
   "source": [
    "def somar(n1,n2):\n",
    "    return n1+n2 \n",
    "\n",
    "def subtrair(n1, n2):\n",
    "    return n1-n2\n",
    "\n",
    "def multiplica(n1,n2):\n",
    "    return n1 * n2 \n",
    "\n",
    "def divide(n1,n2):\n",
    "    return n1/n2 \n",
    "\n",
    "\n",
    "\n",
    "while True:\n",
    "    print('+=================+')\n",
    "    print('| MENU DE OPERAÇÕES')\n",
    "    print('| 1 - somar        ')\n",
    "    print('| 2 - subtrair     ')\n",
    "    print('| 3 - multiplicar  ')\n",
    "    print('| 4 - dividir      ')\n",
    "    print('| 0 - sair         ')\n",
    "    print('+=================+')\n",
    "\n",
    "    op = int(input())\n",
    "    if op==0: \n",
    "        break\n",
    "\n",
    "    n1 = float(input('Primeiro número:'))\n",
    "    n2 = float(input('Segundo número:')) \n",
    "\n",
    "    if op == 1:\n",
    "        print('O resultado da soma é:', somar (n1,n2))\n",
    "    elif op == 2:\n",
    "        print('O resultado da subtraição é:', subtrair(n1,n2))\n",
    "    elif op == 3:\n",
    "        print('O resultado da multiplicação é:', multiplica(n1,n2))\n",
    "    elif op == 4:\n",
    "        print('O resultado da divisão é:', divide(n1,n2))\n",
    "    else:\n",
    "        print( 'Valor invalido')"
   ]
  },
  {
   "cell_type": "code",
   "execution_count": 6,
   "metadata": {},
   "outputs": [
    {
     "name": "stdout",
     "output_type": "stream",
     "text": [
      "+=================+\n",
      "| MENU DE OPERAÇÕES\n",
      "| 1 - somar        \n",
      "| 2 - subtrair     \n",
      "| 3 - multiplicar  \n",
      "| 4 - dividir      \n",
      "| 0 - sair         \n",
      "+=================+\n",
      "O resultado da subtraição é: 1.0\n",
      "+=================+\n",
      "| MENU DE OPERAÇÕES\n",
      "| 1 - somar        \n",
      "| 2 - subtrair     \n",
      "| 3 - multiplicar  \n",
      "| 4 - dividir      \n",
      "| 0 - sair         \n",
      "+=================+\n"
     ]
    },
    {
     "ename": "ValueError",
     "evalue": "invalid literal for int() with base 10: ''",
     "output_type": "error",
     "traceback": [
      "\u001b[1;31m---------------------------------------------------------------------------\u001b[0m",
      "\u001b[1;31mValueError\u001b[0m                                Traceback (most recent call last)",
      "Cell \u001b[1;32mIn[6], line 11\u001b[0m\n\u001b[0;32m      8\u001b[0m \u001b[38;5;28mprint\u001b[39m(\u001b[38;5;124m'\u001b[39m\u001b[38;5;124m| 0 - sair         \u001b[39m\u001b[38;5;124m'\u001b[39m)\n\u001b[0;32m      9\u001b[0m \u001b[38;5;28mprint\u001b[39m(\u001b[38;5;124m'\u001b[39m\u001b[38;5;124m+=================+\u001b[39m\u001b[38;5;124m'\u001b[39m)\n\u001b[1;32m---> 11\u001b[0m op \u001b[38;5;241m=\u001b[39m \u001b[38;5;28;43mint\u001b[39;49m\u001b[43m(\u001b[49m\u001b[38;5;28;43minput\u001b[39;49m\u001b[43m(\u001b[49m\u001b[43m)\u001b[49m\u001b[43m)\u001b[49m\n\u001b[0;32m     12\u001b[0m \u001b[38;5;28;01mif\u001b[39;00m op\u001b[38;5;241m==\u001b[39m\u001b[38;5;241m0\u001b[39m: \n\u001b[0;32m     13\u001b[0m     \u001b[38;5;28;01mbreak\u001b[39;00m\n",
      "\u001b[1;31mValueError\u001b[0m: invalid literal for int() with base 10: ''"
     ]
    }
   ],
   "source": []
  }
 ],
 "metadata": {
  "kernelspec": {
   "display_name": "Python 3",
   "language": "python",
   "name": "python3"
  },
  "language_info": {
   "codemirror_mode": {
    "name": "ipython",
    "version": 3
   },
   "file_extension": ".py",
   "mimetype": "text/x-python",
   "name": "python",
   "nbconvert_exporter": "python",
   "pygments_lexer": "ipython3",
   "version": "3.12.3"
  }
 },
 "nbformat": 4,
 "nbformat_minor": 2
}
