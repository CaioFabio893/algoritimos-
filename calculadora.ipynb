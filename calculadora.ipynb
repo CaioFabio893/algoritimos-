{
 "cells": [
  {
   "cell_type": "code",
   "execution_count": 25,
   "metadata": {},
   "outputs": [
    {
     "name": "stdout",
     "output_type": "stream",
     "text": [
      "+=================+\n",
      "| MENU DE OPERAÇÕES\n",
      "| 1 - somar        \n",
      "| 2 - subtrair     \n",
      "| 3 - multiplicar  \n",
      "| 4 - dividir      \n",
      "| 5 - potencia     \n",
      "| 6 - modulo       \n",
      "| 0 - sair         \n",
      "+=================+\n"
     ]
    },
    {
     "name": "stdout",
     "output_type": "stream",
     "text": [
      "Valor invalido, digite novamente.\n",
      "+=================+\n",
      "| MENU DE OPERAÇÕES\n",
      "| 1 - somar        \n",
      "| 2 - subtrair     \n",
      "| 3 - multiplicar  \n",
      "| 4 - dividir      \n",
      "| 5 - potencia     \n",
      "| 6 - modulo       \n",
      "| 0 - sair         \n",
      "+=================+\n",
      "Operação encerrada\n"
     ]
    }
   ],
   "source": [
    "def somar(n1,n2):\n",
    "    return n1+n2 \n",
    "\n",
    "def subtrair(n1, n2):\n",
    "    return n1-n2\n",
    "\n",
    "def multiplica(n1,n2):\n",
    "    return n1 * n2 \n",
    "\n",
    "def divide(n1,n2):\n",
    "    if n2 !=0:\n",
    "        return n1/n2 \n",
    "    else:\n",
    "        return 'Erro: divisão por zero'\n",
    "    \n",
    "def potencia(n1, n2):\n",
    "    return n1 ** n2\n",
    "\n",
    "def modulo(n1, n2):\n",
    "    return n1 % n2\n",
    "\n",
    "\n",
    "\n",
    "\n",
    "while True:\n",
    "    print('+=================+')\n",
    "    print('| MENU DE OPERAÇÕES')\n",
    "    print('| 1 - somar        ')\n",
    "    print('| 2 - subtrair     ')\n",
    "    print('| 3 - multiplicar  ')\n",
    "    print('| 4 - dividir      ')\n",
    "    print('| 5 - potencia     ')\n",
    "    print('| 6 - modulo       ')\n",
    "    print('| 0 - sair         ')\n",
    "    print('+=================+')\n",
    "    \n",
    "   \n",
    "    op = int(input())\n",
    "    if op==0: \n",
    "        print('Operação encerrada')\n",
    "        break\n",
    "    elif op in [1,2,3,4,5,6]:\n",
    "        n1 = float(input('Primeiro número:'))\n",
    "        n2 = float(input('Segundo número:')) \n",
    "\n",
    "        if op == 1:\n",
    "            print('O resultado da soma é:', somar (n1,n2))  \n",
    "           \n",
    "        elif op == 2:\n",
    "            print('O resultado da subtraição é:', subtrair(n1,n2))\n",
    "           \n",
    "        elif op == 3:\n",
    "            print('O resultado da multiplicação é:', multiplica(n1,n2))\n",
    "           \n",
    "        elif op == 4:\n",
    "            print('O resultado da divisão é:', divide(n1,n2))\n",
    "            \n",
    "        elif op == 5:\n",
    "            print('O resultado da potenciação é:', potencia(n1, n2))\n",
    "        \n",
    "        elif op == 6:\n",
    "            print('O resultado do módulo é:', modulo(n1, n2))\n",
    "\n",
    "    \n",
    "        \n",
    "        break\n",
    "   \n",
    "    else:\n",
    "        print('Valor invalido, digite novamente.')\n",
    "    "
   ]
  }
 ],
 "metadata": {
  "kernelspec": {
   "display_name": "Python 3",
   "language": "python",
   "name": "python3"
  },
  "language_info": {
   "codemirror_mode": {
    "name": "ipython",
    "version": 3
   },
   "file_extension": ".py",
   "mimetype": "text/x-python",
   "name": "python",
   "nbconvert_exporter": "python",
   "pygments_lexer": "ipython3",
   "version": "3.11.-1"
  }
 },
 "nbformat": 4,
 "nbformat_minor": 2
}
