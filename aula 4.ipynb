{
 "cells": [
  {
   "cell_type": "code",
   "execution_count": 1,
   "metadata": {},
   "outputs": [],
   "source": [
    "valor1 = int(input('Digite um número inteiro: '))\n",
    "valor2 = int(input('Digite outro número inteiro: '))"
   ]
  },
  {
   "cell_type": "code",
   "execution_count": 3,
   "metadata": {},
   "outputs": [
    {
     "name": "stdout",
     "output_type": "stream",
     "text": [
      "False\n",
      "False\n",
      "True\n",
      "False\n",
      "True\n"
     ]
    }
   ],
   "source": [
    "print ( valor1 == valor2 )\n",
    "print ( valor1 > valor2 )\n",
    "print ( valor1 < valor2 )\n",
    "print ( valor1 >= valor2 )\n",
    "print ( valor1 <= valor2 )"
   ]
  },
  {
   "cell_type": "code",
   "execution_count": 7,
   "metadata": {},
   "outputs": [
    {
     "name": "stdout",
     "output_type": "stream",
     "text": [
      "False\n"
     ]
    }
   ],
   "source": [
    "numero = 10\n",
    "print( numero>0 and numero <10)"
   ]
  },
  {
   "cell_type": "code",
   "execution_count": 8,
   "metadata": {},
   "outputs": [
    {
     "name": "stdout",
     "output_type": "stream",
     "text": [
      "True\n"
     ]
    }
   ],
   "source": [
    "numero = 10\n",
    "print( numero>0 or numero <10)"
   ]
  },
  {
   "cell_type": "code",
   "execution_count": 10,
   "metadata": {},
   "outputs": [],
   "source": [
    "#desafio \n",
    "valor1 = int(input('Digite um número inteiro: '))"
   ]
  },
  {
   "cell_type": "code",
   "execution_count": 14,
   "metadata": {},
   "outputs": [
    {
     "name": "stdout",
     "output_type": "stream",
     "text": [
      "o número é par\n"
     ]
    }
   ],
   "source": [
    "if (valor1 % 2 == 0):\n",
    "    print (\"o número é par\")\n",
    "else:\n",
    "    print (\"o número é impar \")"
   ]
  },
  {
   "cell_type": "code",
   "execution_count": 20,
   "metadata": {},
   "outputs": [],
   "source": [
    "cupom = input ('digite o cupom: ')"
   ]
  },
  {
   "cell_type": "code",
   "execution_count": 21,
   "metadata": {},
   "outputs": [
    {
     "name": "stdout",
     "output_type": "stream",
     "text": [
      "cupom inválido\n"
     ]
    }
   ],
   "source": [
    "if (cupom == 'aula1' or cupom == 'aula2'):\n",
    "    print('você ganhou 10% de desconto')\n",
    "else:\n",
    "    print ('cupom inválido')"
   ]
  },
  {
   "cell_type": "code",
   "execution_count": 22,
   "metadata": {},
   "outputs": [],
   "source": [
    "cupom = input ('digite o cupom: ')"
   ]
  },
  {
   "cell_type": "code",
   "execution_count": 23,
   "metadata": {},
   "outputs": [
    {
     "name": "stdout",
     "output_type": "stream",
     "text": [
      " aplicar 15% de desconto\n"
     ]
    }
   ],
   "source": [
    "#desafio\n",
    "if (cupom == 'aula1' or cupom == 'aula2'):\n",
    "    print(' aplicar 15% de desconto')\n",
    "else:\n",
    "    print ('aplicar 5% de desconto')"
   ]
  }
 ],
 "metadata": {
  "kernelspec": {
   "display_name": "venv",
   "language": "python",
   "name": "python3"
  },
  "language_info": {
   "codemirror_mode": {
    "name": "ipython",
    "version": 3
   },
   "file_extension": ".py",
   "mimetype": "text/x-python",
   "name": "python",
   "nbconvert_exporter": "python",
   "pygments_lexer": "ipython3",
   "version": "3.12.2"
  }
 },
 "nbformat": 4,
 "nbformat_minor": 2
}
