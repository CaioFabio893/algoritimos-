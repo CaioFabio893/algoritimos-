{
 "cells": [
  {
   "cell_type": "code",
   "execution_count": 11,
   "metadata": {},
   "outputs": [
    {
     "name": "stdout",
     "output_type": "stream",
     "text": [
      "o resultado da letar A é: 80.0\n",
      "o resultado da letar B é: 212.875\n"
     ]
    }
   ],
   "source": [
    "#questao 6\n",
    "#numero 10\n",
    "numero1 = float(input('digite um número'))\n",
    "#numero 8\n",
    "numero2 = float(input('digite outro número'))\n",
    "#numero 5.5\n",
    "numero3 = float(input('digite outro número'))\n",
    "\n",
    "# letra A\n",
    "resultado1 = (numero1*2) * (numero2/2)\n",
    "print ('o resultado da letar A é:', resultado1 )\n",
    "\n",
    "#letra B\n",
    "resultado2 = (numero1 + numero3)*3 + numero3**3\n",
    "print ('o resultado da letar B é:', resultado2 )\n",
    "\n"
   ]
  },
  {
   "cell_type": "code",
   "execution_count": 13,
   "metadata": {},
   "outputs": [
    {
     "name": "stdout",
     "output_type": "stream",
     "text": [
      "O maior valor é: 76.0\n"
     ]
    }
   ],
   "source": [
    "#questao 7\n",
    "valor1 = float(input('digite um número'))\n",
    "valor2 = float(input('digite um número'))\n",
    "\n",
    "if (valor1 > valor2):\n",
    "    print('O maior valor é:', valor1)\n",
    "else:\n",
    "    print ('O maior valor é:', valor2)"
   ]
  },
  {
   "cell_type": "code",
   "execution_count": 15,
   "metadata": {},
   "outputs": [
    {
     "name": "stdout",
     "output_type": "stream",
     "text": [
      "O número é negativo\n"
     ]
    }
   ],
   "source": [
    "#questao 8\n",
    "numero4 = float(input('digite um número'))\n",
    "\n",
    "if(numero4 >= 0):\n",
    "    print('O número é positivo')\n",
    "else:\n",
    "    print('O número é negativo')"
   ]
  },
  {
   "cell_type": "code",
   "execution_count": 16,
   "metadata": {},
   "outputs": [
    {
     "name": "stdout",
     "output_type": "stream",
     "text": [
      "Reprovado, sua média é 5.0\n"
     ]
    }
   ],
   "source": [
    "#questao 9\n",
    "nota1 = float(input('digite um número'))\n",
    "nota2 = float(input('digite um número'))\n",
    "\n",
    "media= (nota1 + nota2)/ 2\n",
    "\n",
    "if(media >= 7):\n",
    "    print: ('Aprovado, sua média é:', media)\n",
    "else:\n",
    "    print('Reprovado, sua média é', media)"
   ]
  },
  {
   "cell_type": "code",
   "execution_count": 19,
   "metadata": {},
   "outputs": [
    {
     "name": "stdout",
     "output_type": "stream",
     "text": [
      "14.0\n"
     ]
    }
   ],
   "source": [
    "#questao 10\n",
    "numero5 = float(input('digite um número'))\n",
    "numero6 = float(input('digite outro número'))\n",
    "numero7 = float(input('digite outro número'))\n",
    "\n",
    "if (numero5 >= numero6 and numero5 >= numero7):\n",
    "    print (numero5)\n",
    " \n",
    "elif (numero6 >= numero5 and numero6 >= numero7):\n",
    "    print (numero6)\n",
    "     \n",
    "else:\n",
    "    print(numero7)"
   ]
  }
 ],
 "metadata": {
  "kernelspec": {
   "display_name": "Python 3",
   "language": "python",
   "name": "python3"
  },
  "language_info": {
   "codemirror_mode": {
    "name": "ipython",
    "version": 3
   },
   "file_extension": ".py",
   "mimetype": "text/x-python",
   "name": "python",
   "nbconvert_exporter": "python",
   "pygments_lexer": "ipython3",
   "version": "3.11.9"
  }
 },
 "nbformat": 4,
 "nbformat_minor": 2
}
